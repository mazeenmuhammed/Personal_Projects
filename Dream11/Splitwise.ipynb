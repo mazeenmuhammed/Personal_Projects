{
 "cells": [
  {
   "cell_type": "code",
   "execution_count": 1,
   "metadata": {},
   "outputs": [],
   "source": [
    "import pandas as pd"
   ]
  },
  {
   "cell_type": "code",
   "execution_count": 6,
   "metadata": {
    "scrolled": true
   },
   "outputs": [
    {
     "data": {
      "text/html": [
       "<div>\n",
       "<style scoped>\n",
       "    .dataframe tbody tr th:only-of-type {\n",
       "        vertical-align: middle;\n",
       "    }\n",
       "\n",
       "    .dataframe tbody tr th {\n",
       "        vertical-align: top;\n",
       "    }\n",
       "\n",
       "    .dataframe thead th {\n",
       "        text-align: right;\n",
       "    }\n",
       "</style>\n",
       "<table border=\"1\" class=\"dataframe\">\n",
       "  <thead>\n",
       "    <tr style=\"text-align: right;\">\n",
       "      <th></th>\n",
       "      <th>maz</th>\n",
       "      <th>jeev</th>\n",
       "      <th>bhar</th>\n",
       "    </tr>\n",
       "  </thead>\n",
       "  <tbody>\n",
       "    <tr>\n",
       "      <th>pra</th>\n",
       "      <td>897</td>\n",
       "      <td>512</td>\n",
       "      <td>44</td>\n",
       "    </tr>\n",
       "    <tr>\n",
       "      <th>sug</th>\n",
       "      <td>0</td>\n",
       "      <td>0</td>\n",
       "      <td>353</td>\n",
       "    </tr>\n",
       "  </tbody>\n",
       "</table>\n",
       "</div>"
      ],
      "text/plain": [
       "     maz  jeev  bhar\n",
       "pra  897   512    44\n",
       "sug    0     0   353"
      ]
     },
     "execution_count": 6,
     "metadata": {},
     "output_type": "execute_result"
    }
   ],
   "source": [
    "ge = {\"maz\":897,\"jeev\":512,\"bhar\":397}\n",
    "gi = {\"pra\":1453,\"sug\":353}\n",
    "new_dic = {}\n",
    "for gi_v, gi_k in  gi.items():\n",
    "    money = gi_k\n",
    "    ls = []\n",
    "    for ge_v, ge_k in  ge.items():\n",
    "        if ge_k == 0:\n",
    "            ls.append(ge_k)\n",
    "        elif money-ge_k >=0:\n",
    "            money-=ge_k\n",
    "            ls.append(ge_k)\n",
    "            ge[ge_v] = 0\n",
    "        elif ge_k-money >=0:\n",
    "            ls.append(money)\n",
    "            ge[ge_v] = ge_k-money\n",
    "            break\n",
    "        elif money > 0 :\n",
    "            ls.appennd(money)\n",
    "            get[ge_v] = ge_k-money\n",
    "    new_dic[gi_v] = ls\n",
    "    \n",
    "df = pd.DataFrame(new_dic).T\n",
    "\n",
    "ls_keys = list(ge.keys())\n",
    "\n",
    "for i in range(len(df.columns)):\n",
    "    df[ls_keys[i]] = df.iloc[:,i]\n",
    "df.drop(df.iloc[:,:3].columns, axis = 1, inplace = True)\n",
    "df"
   ]
  },
  {
   "cell_type": "code",
   "execution_count": null,
   "metadata": {},
   "outputs": [],
   "source": []
  },
  {
   "cell_type": "code",
   "execution_count": null,
   "metadata": {},
   "outputs": [],
   "source": []
  },
  {
   "cell_type": "code",
   "execution_count": null,
   "metadata": {},
   "outputs": [],
   "source": []
  }
 ],
 "metadata": {
  "kernelspec": {
   "display_name": "Python 3",
   "language": "python",
   "name": "python3"
  },
  "language_info": {
   "codemirror_mode": {
    "name": "ipython",
    "version": 3
   },
   "file_extension": ".py",
   "mimetype": "text/x-python",
   "name": "python",
   "nbconvert_exporter": "python",
   "pygments_lexer": "ipython3",
   "version": "3.7.6"
  }
 },
 "nbformat": 4,
 "nbformat_minor": 4
}

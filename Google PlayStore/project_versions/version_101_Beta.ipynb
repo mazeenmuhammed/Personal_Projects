{
 "cells": [
  {
   "cell_type": "code",
   "execution_count": 1,
   "metadata": {},
   "outputs": [],
   "source": [
    "from google_play_scraper import Sort, reviews , app, reviews_all \n",
    "import json\n",
    "from pygments import highlight\n",
    "from pygments.lexers import JsonLexer\n",
    "from pygments.formatters import TerminalFormatter"
   ]
  },
  {
   "cell_type": "code",
   "execution_count": 2,
   "metadata": {},
   "outputs": [],
   "source": [
    "app_info = app(\"com.axndxsoftwarehub.knightbite\",lang='en', country='us')"
   ]
  },
  {
   "cell_type": "code",
   "execution_count": 3,
   "metadata": {},
   "outputs": [
    {
     "data": {
      "text/plain": [
       "dict_keys(['title', 'description', 'descriptionHTML', 'summary', 'summaryHTML', 'installs', 'minInstalls', 'score', 'ratings', 'reviews', 'histogram', 'price', 'free', 'currency', 'sale', 'saleTime', 'originalPrice', 'saleText', 'offersIAP', 'inAppProductPrice', 'size', 'androidVersion', 'androidVersionText', 'developer', 'developerId', 'developerEmail', 'developerWebsite', 'developerAddress', 'privacyPolicy', 'developerInternalID', 'genre', 'genreId', 'icon', 'headerImage', 'screenshots', 'video', 'videoImage', 'contentRating', 'contentRatingDescription', 'adSupported', 'containsAds', 'released', 'updated', 'version', 'recentChanges', 'recentChangesHTML', 'comments', 'appId', 'url'])"
      ]
     },
     "execution_count": 3,
     "metadata": {},
     "output_type": "execute_result"
    }
   ],
   "source": [
    "app_info.keys()"
   ]
  },
  {
   "cell_type": "code",
   "execution_count": 4,
   "metadata": {},
   "outputs": [],
   "source": [
    "del app_info['summary']\n",
    "del app_info['adSupported']\n",
    "del app_info['androidVersion']\n",
    "del app_info['androidVersionText']\n",
    "del app_info['containsAds']\n",
    "del app_info['comments']\n",
    "del app_info['contentRating']\n",
    "del app_info['contentRatingDescription']\n",
    "del app_info['currency']\n",
    "del app_info['description']\n",
    "del app_info['descriptionHTML']\n",
    "del app_info['developer']\n",
    "del app_info['developerAddress']\n",
    "del app_info['developerId']\n",
    "del app_info['developerInternalID']\n",
    "del app_info['free']\n",
    "del app_info['genreId']\n",
    "del app_info['headerImage']\n",
    "del app_info['icon']\n",
    "del app_info['inAppProductPrice']\n",
    "del app_info['installs']\n",
    "del app_info['offersIAP']\n",
    "del app_info['originalPrice']\n",
    "del app_info['price']\n",
    "del app_info['privacyPolicy']\n",
    "del app_info['recentChanges']\n",
    "del app_info['recentChangesHTML']\n",
    "del app_info['screenshots']\n",
    "del app_info['sale']\n",
    "del app_info['saleText']\n",
    "del app_info['saleTime']\n",
    "del app_info['updated']\n",
    "del app_info['url']\n",
    "#del app_info['version']\n",
    "del app_info['video']\n",
    "del app_info['videoImage']"
   ]
  },
  {
   "cell_type": "code",
   "execution_count": 5,
   "metadata": {},
   "outputs": [],
   "source": [
    "def print_json(json_object):\n",
    "    json_str = json.dumps(\n",
    "    json_object,\n",
    "        indent = 2,\n",
    "        sort_keys=True,\n",
    "        default = str\n",
    "    )\n",
    "    print(highlight(json_str , JsonLexer(), TerminalFormatter()))"
   ]
  },
  {
   "cell_type": "code",
   "execution_count": 6,
   "metadata": {
    "scrolled": false
   },
   "outputs": [
    {
     "name": "stdout",
     "output_type": "stream",
     "text": [
      "{\n",
      "  \u001b[94m\"appId\"\u001b[39;49;00m: \u001b[33m\"com.axndxsoftwarehub.knightbite\"\u001b[39;49;00m,\n",
      "  \u001b[94m\"developerEmail\"\u001b[39;49;00m: \u001b[33m\"knightbiteixe@gmail.com\"\u001b[39;49;00m,\n",
      "  \u001b[94m\"developerWebsite\"\u001b[39;49;00m: \u001b[33m\"http://www.knight-bite.com\"\u001b[39;49;00m,\n",
      "  \u001b[94m\"genre\"\u001b[39;49;00m: \u001b[33m\"Food & Drink\"\u001b[39;49;00m,\n",
      "  \u001b[94m\"histogram\"\u001b[39;49;00m: [\n",
      "    \u001b[34m33\u001b[39;49;00m,\n",
      "    \u001b[34m5\u001b[39;49;00m,\n",
      "    \u001b[34m11\u001b[39;49;00m,\n",
      "    \u001b[34m22\u001b[39;49;00m,\n",
      "    \u001b[34m489\u001b[39;49;00m\n",
      "  ],\n",
      "  \u001b[94m\"minInstalls\"\u001b[39;49;00m: \u001b[34m10000\u001b[39;49;00m,\n",
      "  \u001b[94m\"ratings\"\u001b[39;49;00m: \u001b[34m560\u001b[39;49;00m,\n",
      "  \u001b[94m\"released\"\u001b[39;49;00m: \u001b[33m\"Apr 18, 2018\"\u001b[39;49;00m,\n",
      "  \u001b[94m\"reviews\"\u001b[39;49;00m: \u001b[34m216\u001b[39;49;00m,\n",
      "  \u001b[94m\"score\"\u001b[39;49;00m: \u001b[34m4.65\u001b[39;49;00m,\n",
      "  \u001b[94m\"size\"\u001b[39;49;00m: \u001b[33m\"8.2M\"\u001b[39;49;00m,\n",
      "  \u001b[94m\"summaryHTML\"\u001b[39;49;00m: \u001b[33m\"Order your favorite night meal online, now also delivering groceries.\"\u001b[39;49;00m,\n",
      "  \u001b[94m\"title\"\u001b[39;49;00m: \u001b[33m\"Knight Bite - Order Food Online\"\u001b[39;49;00m,\n",
      "  \u001b[94m\"version\"\u001b[39;49;00m: \u001b[33m\"6.5.7\"\u001b[39;49;00m\n",
      "}\n",
      "\n"
     ]
    }
   ],
   "source": [
    "print_json(app_info)"
   ]
  },
  {
   "cell_type": "code",
   "execution_count": 7,
   "metadata": {},
   "outputs": [],
   "source": [
    "total_reviews = app_info['reviews']\n",
    "fetch_total = 1000\n",
    "if total_reviews<1000:\n",
    "    fetch_total = total_reviews"
   ]
  },
  {
   "cell_type": "code",
   "execution_count": 8,
   "metadata": {},
   "outputs": [],
   "source": [
    "result, continuation_token = reviews(\n",
    "    'com.axndxsoftwarehub.knightbite',\n",
    "    lang='en', # defaults to 'en'\n",
    "    country='us', # defaults to 'us'\n",
    "    sort=Sort.NEWEST, # defaults to Sort.MOST_RELEVANT\n",
    "    count=fetch_total, # defaults to 100\n",
    "    #filter_score_with=5, # defaults to None(means all score)\n",
    "    #continuation_token = continuation_token\n",
    ")"
   ]
  },
  {
   "cell_type": "code",
   "execution_count": 9,
   "metadata": {},
   "outputs": [
    {
     "data": {
      "text/plain": [
       "{'reviewId': 'gp:AOqpTOEypbgWa1BMVSmp3Zo8qRWK_EnggXO_dr8tZNqspnGNm6CHj8d-D9DPi7L-47RYX1pkDIREypZIc6Nk1g',\n",
       " 'userName': 'Suman CN',\n",
       " 'userImage': 'https://lh3.googleusercontent.com/a-/AOh14GiRFjjjHNcLt_B6bJzdx3AfI9MfvMoSe4m4dnKmUg',\n",
       " 'content': 'Not able to sign in as I am not getting the OTP',\n",
       " 'score': 1,\n",
       " 'thumbsUpCount': 0,\n",
       " 'reviewCreatedVersion': None,\n",
       " 'at': datetime.datetime(2020, 9, 2, 0, 47, 44),\n",
       " 'replyContent': None,\n",
       " 'repliedAt': None}"
      ]
     },
     "execution_count": 9,
     "metadata": {},
     "output_type": "execute_result"
    }
   ],
   "source": [
    "result[0]"
   ]
  },
  {
   "cell_type": "code",
   "execution_count": 10,
   "metadata": {
    "scrolled": false
   },
   "outputs": [],
   "source": [
    "result_all = reviews_all(\n",
    "    'com.axndxsoftwarehub.knightbite',\n",
    "    lang='en', # defaults to 'en'\n",
    "    country='us', # defaults to 'us'\n",
    "    sort=Sort.NEWEST, # defaults to Sort.MOST_RELEVANT\n",
    "    count=3, # defaults to 100\n",
    "    filter_score_with=0, # defaults to None(means all score)\n",
    "    #continuation_token = continuation_token\n",
    ")"
   ]
  },
  {
   "cell_type": "code",
   "execution_count": 11,
   "metadata": {
    "scrolled": false
   },
   "outputs": [
    {
     "data": {
      "text/plain": [
       "{'reviewId': 'gp:AOqpTOEypbgWa1BMVSmp3Zo8qRWK_EnggXO_dr8tZNqspnGNm6CHj8d-D9DPi7L-47RYX1pkDIREypZIc6Nk1g',\n",
       " 'userName': 'Suman CN',\n",
       " 'userImage': 'https://lh3.googleusercontent.com/a-/AOh14GiRFjjjHNcLt_B6bJzdx3AfI9MfvMoSe4m4dnKmUg',\n",
       " 'content': 'Not able to sign in as I am not getting the OTP',\n",
       " 'score': 1,\n",
       " 'thumbsUpCount': 0,\n",
       " 'reviewCreatedVersion': None,\n",
       " 'at': datetime.datetime(2020, 9, 2, 0, 47, 44),\n",
       " 'replyContent': None,\n",
       " 'repliedAt': None}"
      ]
     },
     "execution_count": 11,
     "metadata": {},
     "output_type": "execute_result"
    }
   ],
   "source": [
    "result_all[0]"
   ]
  },
  {
   "cell_type": "code",
   "execution_count": 75,
   "metadata": {},
   "outputs": [],
   "source": [
    "import pandas as pd\n",
    "import datetime as dt"
   ]
  },
  {
   "cell_type": "markdown",
   "metadata": {},
   "source": [
    "### Latest 5 negative reviews"
   ]
  },
  {
   "cell_type": "code",
   "execution_count": 609,
   "metadata": {
    "scrolled": false
   },
   "outputs": [
    {
     "data": {
      "text/html": [
       "<div>\n",
       "<style scoped>\n",
       "    .dataframe tbody tr th:only-of-type {\n",
       "        vertical-align: middle;\n",
       "    }\n",
       "\n",
       "    .dataframe tbody tr th {\n",
       "        vertical-align: top;\n",
       "    }\n",
       "\n",
       "    .dataframe thead th {\n",
       "        text-align: right;\n",
       "    }\n",
       "</style>\n",
       "<table border=\"1\" class=\"dataframe\">\n",
       "  <thead>\n",
       "    <tr style=\"text-align: right;\">\n",
       "      <th></th>\n",
       "      <th>date</th>\n",
       "      <th>app_user</th>\n",
       "      <th>rating</th>\n",
       "      <th>user_review</th>\n",
       "      <th>for_version</th>\n",
       "      <th>dev_response</th>\n",
       "      <th>year</th>\n",
       "      <th>month</th>\n",
       "      <th>month_name</th>\n",
       "    </tr>\n",
       "  </thead>\n",
       "  <tbody>\n",
       "    <tr>\n",
       "      <th>0</th>\n",
       "      <td>2020-09-02 00:47:44</td>\n",
       "      <td>Suman CN</td>\n",
       "      <td>1</td>\n",
       "      <td>Not able to sign in as I am not getting the OTP</td>\n",
       "      <td>None</td>\n",
       "      <td>None</td>\n",
       "      <td>2020</td>\n",
       "      <td>9</td>\n",
       "      <td>September</td>\n",
       "    </tr>\n",
       "    <tr>\n",
       "      <th>40</th>\n",
       "      <td>2020-07-28 02:08:27</td>\n",
       "      <td>Madhav Hendrix</td>\n",
       "      <td>2</td>\n",
       "      <td>Doesn't deliver everywhere in Bangalore</td>\n",
       "      <td>6.5.6</td>\n",
       "      <td>Hi Madhav, thanks for reaching out to us. We s...</td>\n",
       "      <td>2020</td>\n",
       "      <td>7</td>\n",
       "      <td>July</td>\n",
       "    </tr>\n",
       "    <tr>\n",
       "      <th>42</th>\n",
       "      <td>2020-07-24 08:07:51</td>\n",
       "      <td>Zainu Kunjur</td>\n",
       "      <td>1</td>\n",
       "      <td>fraud app , amount deducted but food not deliv...</td>\n",
       "      <td>6.5.6</td>\n",
       "      <td>Hi Zainu, We regret that you had to go through...</td>\n",
       "      <td>2020</td>\n",
       "      <td>7</td>\n",
       "      <td>July</td>\n",
       "    </tr>\n",
       "    <tr>\n",
       "      <th>45</th>\n",
       "      <td>2020-07-19 02:32:13</td>\n",
       "      <td>Dyuthi Balakrishna</td>\n",
       "      <td>1</td>\n",
       "      <td>Not usable. Fails in one of the very first sta...</td>\n",
       "      <td>6.5.6</td>\n",
       "      <td>We regret the inconvenience and the experience...</td>\n",
       "      <td>2020</td>\n",
       "      <td>7</td>\n",
       "      <td>July</td>\n",
       "    </tr>\n",
       "    <tr>\n",
       "      <th>46</th>\n",
       "      <td>2020-07-17 14:19:07</td>\n",
       "      <td>Aditi Kurup</td>\n",
       "      <td>1</td>\n",
       "      <td>I am not able to find my location on the map.....</td>\n",
       "      <td>6.5.6</td>\n",
       "      <td>Hi Aditi, We regret that you had to go through...</td>\n",
       "      <td>2020</td>\n",
       "      <td>7</td>\n",
       "      <td>July</td>\n",
       "    </tr>\n",
       "  </tbody>\n",
       "</table>\n",
       "</div>"
      ],
      "text/plain": [
       "                  date            app_user  rating  \\\n",
       "0  2020-09-02 00:47:44            Suman CN       1   \n",
       "40 2020-07-28 02:08:27      Madhav Hendrix       2   \n",
       "42 2020-07-24 08:07:51        Zainu Kunjur       1   \n",
       "45 2020-07-19 02:32:13  Dyuthi Balakrishna       1   \n",
       "46 2020-07-17 14:19:07         Aditi Kurup       1   \n",
       "\n",
       "                                          user_review for_version  \\\n",
       "0     Not able to sign in as I am not getting the OTP        None   \n",
       "40            Doesn't deliver everywhere in Bangalore       6.5.6   \n",
       "42  fraud app , amount deducted but food not deliv...       6.5.6   \n",
       "45  Not usable. Fails in one of the very first sta...       6.5.6   \n",
       "46  I am not able to find my location on the map.....       6.5.6   \n",
       "\n",
       "                                         dev_response  year  month month_name  \n",
       "0                                                None  2020      9  September  \n",
       "40  Hi Madhav, thanks for reaching out to us. We s...  2020      7       July  \n",
       "42  Hi Zainu, We regret that you had to go through...  2020      7       July  \n",
       "45  We regret the inconvenience and the experience...  2020      7       July  \n",
       "46  Hi Aditi, We regret that you had to go through...  2020      7       July  "
      ]
     },
     "execution_count": 609,
     "metadata": {},
     "output_type": "execute_result"
    }
   ],
   "source": [
    "review_df = pd.DataFrame(result, columns = ['at','userName','score','content','reviewCreatedVersion','replyContent'])\\\n",
    "            .rename(columns = {'at' : 'date','userName':'app_user','score':'rating','content':'user_review',\\\n",
    "                               'reviewCreatedVersion':'for_version', 'replyContent':'dev_response'} )\n",
    "review_df['year'] = review_df.date.map(lambda x: x.year)\n",
    "review_df['month'] = review_df.date.map(lambda x: x.month)\n",
    "review_df['month_name'] = review_df.date.map(lambda x: x.month_name())\n",
    "review_df[review_df.rating<4].head()"
   ]
  },
  {
   "cell_type": "markdown",
   "metadata": {},
   "source": [
    "### Reviews vs Responses"
   ]
  },
  {
   "cell_type": "code",
   "execution_count": 14,
   "metadata": {},
   "outputs": [
    {
     "data": {
      "text/html": [
       "<div>\n",
       "<style scoped>\n",
       "    .dataframe tbody tr th:only-of-type {\n",
       "        vertical-align: middle;\n",
       "    }\n",
       "\n",
       "    .dataframe tbody tr th {\n",
       "        vertical-align: top;\n",
       "    }\n",
       "\n",
       "    .dataframe thead th {\n",
       "        text-align: right;\n",
       "    }\n",
       "</style>\n",
       "<table border=\"1\" class=\"dataframe\">\n",
       "  <thead>\n",
       "    <tr style=\"text-align: right;\">\n",
       "      <th></th>\n",
       "      <th>user_review</th>\n",
       "      <th>dev_response</th>\n",
       "    </tr>\n",
       "    <tr>\n",
       "      <th>rating</th>\n",
       "      <th></th>\n",
       "      <th></th>\n",
       "    </tr>\n",
       "  </thead>\n",
       "  <tbody>\n",
       "    <tr>\n",
       "      <th>1</th>\n",
       "      <td>29</td>\n",
       "      <td>10</td>\n",
       "    </tr>\n",
       "    <tr>\n",
       "      <th>2</th>\n",
       "      <td>5</td>\n",
       "      <td>1</td>\n",
       "    </tr>\n",
       "    <tr>\n",
       "      <th>3</th>\n",
       "      <td>3</td>\n",
       "      <td>0</td>\n",
       "    </tr>\n",
       "    <tr>\n",
       "      <th>4</th>\n",
       "      <td>15</td>\n",
       "      <td>4</td>\n",
       "    </tr>\n",
       "    <tr>\n",
       "      <th>5</th>\n",
       "      <td>164</td>\n",
       "      <td>58</td>\n",
       "    </tr>\n",
       "  </tbody>\n",
       "</table>\n",
       "</div>"
      ],
      "text/plain": [
       "        user_review  dev_response\n",
       "rating                           \n",
       "1                29            10\n",
       "2                 5             1\n",
       "3                 3             0\n",
       "4                15             4\n",
       "5               164            58"
      ]
     },
     "execution_count": 14,
     "metadata": {},
     "output_type": "execute_result"
    }
   ],
   "source": [
    "review_df.groupby('rating').count()[['user_review','dev_response']]"
   ]
  },
  {
   "cell_type": "code",
   "execution_count": 501,
   "metadata": {},
   "outputs": [],
   "source": [
    "import nltk\n",
    "from nltk.tokenize import sent_tokenize\n",
    "from nltk.tokenize import RegexpTokenizer\n",
    "from string import punctuation as punc\n",
    "from nltk.stem import WordNetLemmatizer \n",
    "from nltk.corpus import stopwords as sw\n",
    "\n",
    "stopwords = set(sw.words('english'))\n",
    "stopwords.update({'sometimes','get','i\\'m','good', 'something','give','hope','that\\'s','that', 'well','please', 'plz','help'})\n",
    "stopwords.difference_update({\"aren't\",\"couldn't\",\"doesn't\",\"don't\",\"hadn't\",\"haven't\",\"isn't\",\"shouldn't\",\"weren't\",\"won't\",\"wouldn't\"}) \n",
    "lemmatizer = WordNetLemmatizer() "
   ]
  },
  {
   "cell_type": "code",
   "execution_count": 604,
   "metadata": {},
   "outputs": [],
   "source": [
    "dic_review = {}\n",
    "dic_word = {}\n",
    "\n",
    "ls_group = list(review_df[review_df.rating<4].groupby(['year','month']).groups.keys())\n",
    "review_group = review_df[review_df.rating<4].groupby(['year','month']) \n",
    "for group in ls_group:\n",
    "    reviews = ' '.join(review_group.get_group(group)[['date','user_review']].user_review).lower()\n",
    "\n",
    "    tokenizer=RegexpTokenizer(\"[a-z']{3,}\")\n",
    "    token = tokenizer.tokenize(reviews)\n",
    "    token = [lemmatizer.lemmatize(lemmatizer.lemmatize(word, pos = 'v'),pos = 'n') for word in token if word not in stopwords]\n",
    "    voc=nltk.FreqDist(token)\n",
    "    dic_word['df_'+str(group[0])+'_'+str(group[1])] = voc\n",
    "    \n",
    "    df = review_group.get_group(group)[['date','user_review']]\n",
    "    df.user_review = df.user_review.map(lambda x : sent_tokenize(x.lower()))\n",
    "    ls= df.user_review.tolist()\n",
    "\n",
    "    new_ls = []\n",
    "    for i in ls:\n",
    "        new_ls+=i\n",
    "    key_set = set(voc.keys())\n",
    "    dic = {}\n",
    "    new_punc = punc.replace(\"'\",\"\")\n",
    "    for sent in new_ls:\n",
    "        wrds_ls = sent.split()\n",
    "        sumi = 0\n",
    "        for wrd in wrds_ls:\n",
    "            \n",
    "            m = lemmatizer.lemmatize(lemmatizer.lemmatize(wrd.translate(str.maketrans(\"\",\"\", new_punc)), pos = 'v'),pos = 'n')\n",
    "            if m in key_set:\n",
    "                sumi+=voc[m]\n",
    "        dic[sent]=sumi\n",
    "    high_freq = max(dic.values())\n",
    "    df_sent = pd.DataFrame([dic.keys(),dic.values()]).T.rename(columns = {0:\"sent\", 1:\"freq\"})\n",
    "    df_sent['weight_freq']=df_sent.freq.map(lambda x : round(x/high_freq,2))\n",
    "    df_sent = df_sent.sort_values(['weight_freq'],ascending=False)\n",
    "    dic_review['df_'+str(group[0])+'_'+str(group[1])] = df_sent[df_sent.weight_freq>0.13]"
   ]
  },
  {
   "cell_type": "code",
   "execution_count": 432,
   "metadata": {
    "scrolled": true
   },
   "outputs": [
    {
     "data": {
      "text/plain": [
       "dict_keys(['df_2018_11', 'df_2018_12', 'df_2019_2', 'df_2019_3', 'df_2019_4', 'df_2019_5', 'df_2019_6', 'df_2019_7', 'df_2019_9', 'df_2019_10', 'df_2019_11', 'df_2020_1', 'df_2020_3', 'df_2020_4', 'df_2020_5', 'df_2020_6', 'df_2020_7', 'df_2020_9'])"
      ]
     },
     "execution_count": 432,
     "metadata": {},
     "output_type": "execute_result"
    }
   ],
   "source": [
    "dic_review.keys()"
   ]
  },
  {
   "cell_type": "code",
   "execution_count": 433,
   "metadata": {
    "scrolled": true
   },
   "outputs": [
    {
     "data": {
      "text/plain": [
       "dict_keys(['df_2018_11', 'df_2018_12', 'df_2019_2', 'df_2019_3', 'df_2019_4', 'df_2019_5', 'df_2019_6', 'df_2019_7', 'df_2019_9', 'df_2019_10', 'df_2019_11', 'df_2020_1', 'df_2020_3', 'df_2020_4', 'df_2020_5', 'df_2020_6', 'df_2020_7', 'df_2020_9'])"
      ]
     },
     "execution_count": 433,
     "metadata": {},
     "output_type": "execute_result"
    }
   ],
   "source": [
    "dic_word.keys()"
   ]
  },
  {
   "cell_type": "code",
   "execution_count": 608,
   "metadata": {},
   "outputs": [
    {
     "data": {
      "text/plain": [
       "\"the chicken burgers are good but the mutton burgers are the worst mutton burger i ever tasted.. costly and very late service, they say withim 40mins and it takes 1 hr sometimes more to deliver, i literally forgot i ordered food from them.. please don't sell those mutton burgers.. and the delivery guy dsnt evn communication before coming. i just had half n couldn't finish it, then my dog had it.\""
      ]
     },
     "execution_count": 608,
     "metadata": {},
     "output_type": "execute_result"
    }
   ],
   "source": [
    "'. '.join(dic_review['df_2020_1'].sent)"
   ]
  },
  {
   "cell_type": "code",
   "execution_count": 605,
   "metadata": {},
   "outputs": [
    {
     "data": {
      "text/html": [
       "<div>\n",
       "<style scoped>\n",
       "    .dataframe tbody tr th:only-of-type {\n",
       "        vertical-align: middle;\n",
       "    }\n",
       "\n",
       "    .dataframe tbody tr th {\n",
       "        vertical-align: top;\n",
       "    }\n",
       "\n",
       "    .dataframe thead th {\n",
       "        text-align: right;\n",
       "    }\n",
       "</style>\n",
       "<table border=\"1\" class=\"dataframe\">\n",
       "  <thead>\n",
       "    <tr style=\"text-align: right;\">\n",
       "      <th></th>\n",
       "      <th>sent</th>\n",
       "      <th>freq</th>\n",
       "      <th>weight_freq</th>\n",
       "    </tr>\n",
       "  </thead>\n",
       "  <tbody>\n",
       "    <tr>\n",
       "      <th>11</th>\n",
       "      <td>discount tactics used to loot the money of pub...</td>\n",
       "      <td>30</td>\n",
       "      <td>1.00</td>\n",
       "    </tr>\n",
       "    <tr>\n",
       "      <th>6</th>\n",
       "      <td>i am not able to find my location on the map.....</td>\n",
       "      <td>19</td>\n",
       "      <td>0.63</td>\n",
       "    </tr>\n",
       "    <tr>\n",
       "      <th>5</th>\n",
       "      <td>by the time the first message reaches you the ...</td>\n",
       "      <td>13</td>\n",
       "      <td>0.43</td>\n",
       "    </tr>\n",
       "    <tr>\n",
       "      <th>1</th>\n",
       "      <td>fraud app , amount deducted but food not deliv...</td>\n",
       "      <td>9</td>\n",
       "      <td>0.30</td>\n",
       "    </tr>\n",
       "    <tr>\n",
       "      <th>8</th>\n",
       "      <td>the soft drinks are charged above the mrp whic...</td>\n",
       "      <td>9</td>\n",
       "      <td>0.30</td>\n",
       "    </tr>\n",
       "    <tr>\n",
       "      <th>3</th>\n",
       "      <td>fails in one of the very first stages of the o...</td>\n",
       "      <td>8</td>\n",
       "      <td>0.27</td>\n",
       "    </tr>\n",
       "    <tr>\n",
       "      <th>9</th>\n",
       "      <td>mrp: inr40/- is charged as inr60/- and bill is...</td>\n",
       "      <td>8</td>\n",
       "      <td>0.27</td>\n",
       "    </tr>\n",
       "    <tr>\n",
       "      <th>10</th>\n",
       "      <td>the discounts are given after the charges are ...</td>\n",
       "      <td>8</td>\n",
       "      <td>0.27</td>\n",
       "    </tr>\n",
       "    <tr>\n",
       "      <th>0</th>\n",
       "      <td>doesn't deliver everywhere in bangalore</td>\n",
       "      <td>6</td>\n",
       "      <td>0.20</td>\n",
       "    </tr>\n",
       "    <tr>\n",
       "      <th>4</th>\n",
       "      <td>you don't get the otp on time.</td>\n",
       "      <td>5</td>\n",
       "      <td>0.17</td>\n",
       "    </tr>\n",
       "  </tbody>\n",
       "</table>\n",
       "</div>"
      ],
      "text/plain": [
       "                                                 sent freq  weight_freq\n",
       "11  discount tactics used to loot the money of pub...   30         1.00\n",
       "6   i am not able to find my location on the map.....   19         0.63\n",
       "5   by the time the first message reaches you the ...   13         0.43\n",
       "1   fraud app , amount deducted but food not deliv...    9         0.30\n",
       "8   the soft drinks are charged above the mrp whic...    9         0.30\n",
       "3   fails in one of the very first stages of the o...    8         0.27\n",
       "9   mrp: inr40/- is charged as inr60/- and bill is...    8         0.27\n",
       "10  the discounts are given after the charges are ...    8         0.27\n",
       "0             doesn't deliver everywhere in bangalore    6         0.20\n",
       "4                      you don't get the otp on time.    5         0.17"
      ]
     },
     "execution_count": 605,
     "metadata": {},
     "output_type": "execute_result"
    }
   ],
   "source": [
    "dic_review['df_2020_7']"
   ]
  }
 ],
 "metadata": {
  "kernelspec": {
   "display_name": "Python 3",
   "language": "python",
   "name": "python3"
  },
  "language_info": {
   "codemirror_mode": {
    "name": "ipython",
    "version": 3
   },
   "file_extension": ".py",
   "mimetype": "text/x-python",
   "name": "python",
   "nbconvert_exporter": "python",
   "pygments_lexer": "ipython3",
   "version": "3.7.6"
  }
 },
 "nbformat": 4,
 "nbformat_minor": 4
}
